{
 "cells": [
  {
   "cell_type": "code",
   "execution_count": 20,
   "source": [
    "# Travis Simmons\n",
    "# Test One Data Mining & ML\n",
    "# October 3rd, 2021\n",
    "import numpy as np\n",
    "from test_1_functions import *"
   ],
   "outputs": [],
   "metadata": {}
  },
  {
   "cell_type": "markdown",
   "source": [
    "# Class data_test functions\n",
    "\n",
    "## **make_predictions(X, thetas_list, type = 'linear', desicion_rule = 0.5)**\n",
    "returns list of linear predictions or rounded list of log predictions\n",
    "\n",
    "\n",
    "## **get_cost(thetas_list, inputs, outputs, type = 'log')**\n",
    "returns total cost and prints predictions / errors\n",
    "\n",
    "\n",
    "## **get_ne(X, Y)**\n",
    "prints ne for linear\n",
    "\n",
    "\n",
    "## **gradient_descent( X, Y, learning_rate, itterations, theta_initials = 0, type = 'linear' )**\n",
    "returns a list of theta values for linear or log\n",
    "\n",
    "\n",
    "\n",
    "\n",
    "\n"
   ],
   "metadata": {}
  },
  {
   "cell_type": "code",
   "execution_count": null,
   "source": [
    "# Linear descent testing\n",
    "\n",
    "import numpy as np\n",
    "\n",
    "X = np.array([[1,10,6,5,11],[1,4,8,9,3],[1,7,5,3,4],[1,16,10,8,9],[1,12,15,11,16], [1,5,9,6,8], [1,17,14,10,15]])\n",
    "Y = np.array([20,18,11,26,49,17,31])\n",
    "\n",
    "\n",
    "alpha = 0.001        # In class we chose 0.1 but it will not converge so here we use a smaller one.\n",
    "initial_thetas = [0,0,0,0,0]\n",
    "\n",
    "thetas_list = data_test.gradient_descent( X, Y, alpha, 30000, type = 'linear' )"
   ],
   "outputs": [],
   "metadata": {}
  },
  {
   "cell_type": "code",
   "execution_count": 7,
   "source": [
    "# test problem 2a\n",
    "\n",
    "X = np.array([[1,2.5], [1,4.6], [1,7], [1,9], [1,12]])\n",
    "Y = np.array([3, 5, 4, 8,10])\n",
    "\n",
    "jason_thetas = [1, 1]\n",
    "sarah_thetas = [.7, .5]\n",
    "\n",
    "jason_cost = data_test.get_cost(jason_thetas, X, Y, type = 'linear')\n",
    "sarah_cost = data_test.get_cost(sarah_thetas, X, Y, type = 'linear')"
   ],
   "outputs": [
    {
     "output_type": "stream",
     "name": "stdout",
     "text": [
      "Determining cost for thetas [1, 1]...\n",
      "\n",
      "Prediction for observation 1: 3.5\n",
      "Error for prediction: 0.25\n",
      "\n",
      "Prediction for observation 2: 5.6\n",
      "Error for prediction: 0.3599999999999996\n",
      "\n",
      "Prediction for observation 3: 8.0\n",
      "Error for prediction: 16.0\n",
      "\n",
      "Prediction for observation 4: 10.0\n",
      "Error for prediction: 4.0\n",
      "\n",
      "Prediction for observation 5: 13.0\n",
      "Error for prediction: 9.0\n",
      "\n",
      "Total cost: 2.9610000000000003.\n",
      "\n",
      "Determining cost for thetas [0.7, 0.5]...\n",
      "\n",
      "Prediction for observation 1: 1.95\n",
      "Error for prediction: 1.1025\n",
      "\n",
      "Prediction for observation 2: 3.0\n",
      "Error for prediction: 4.0\n",
      "\n",
      "Prediction for observation 3: 4.2\n",
      "Error for prediction: 0.04000000000000007\n",
      "\n",
      "Prediction for observation 4: 5.2\n",
      "Error for prediction: 7.839999999999999\n",
      "\n",
      "Prediction for observation 5: 6.7\n",
      "Error for prediction: 10.889999999999999\n",
      "\n",
      "Total cost: 2.3872499999999994.\n",
      "\n"
     ]
    }
   ],
   "metadata": {}
  },
  {
   "cell_type": "code",
   "execution_count": 8,
   "source": [
    "print(jason_cost)\n",
    "\n",
    "print(sarah_cost)"
   ],
   "outputs": [
    {
     "output_type": "stream",
     "name": "stdout",
     "text": [
      "2.9610000000000003\n",
      "2.3872499999999994\n"
     ]
    }
   ],
   "metadata": {}
  },
  {
   "cell_type": "code",
   "execution_count": 21,
   "source": [
    "# Test probelm 2b\n",
    "learning_rate = 0.1\n",
    "itterations = 1\n",
    "new_thetas = data_test.gradient_descent( X, Y, learning_rate, itterations, theta_initials = 0, type = 'linear' )"
   ],
   "outputs": [
    {
     "output_type": "stream",
     "name": "stdout",
     "text": [
      "Linear GD gives {'theta0': 0.6, 'theta1': 4.588800000000001}\n"
     ]
    }
   ],
   "metadata": {}
  },
  {
   "cell_type": "code",
   "execution_count": 22,
   "source": [
    "# Test problem 2c\n",
    "learning_rate = 0.001\n",
    "itterations = 200000\n",
    "new_thetas = data_test.gradient_descent( X, Y, learning_rate, itterations, theta_initials = 0, type = 'linear' )"
   ],
   "outputs": [
    {
     "output_type": "stream",
     "name": "stdout",
     "text": [
      "Linear GD gives {'theta0': 0.9080497382195568, 'theta1': 0.7253490401396564}\n"
     ]
    }
   ],
   "metadata": {}
  },
  {
   "cell_type": "code",
   "execution_count": 11,
   "source": [
    "import numpy as np\n",
    "data_test.get_ne(X,Y)\n",
    "\n",
    "# NE gives [0.90804974 0.72534904]"
   ],
   "outputs": [
    {
     "output_type": "stream",
     "name": "stdout",
     "text": [
      "NE gives [0.90804974 0.72534904]\n"
     ]
    }
   ],
   "metadata": {}
  },
  {
   "cell_type": "code",
   "execution_count": 6,
   "source": [
    "# Problem 3\n",
    "\n",
    "X = np.array([\n",
    "    [1,7,5],\n",
    "    [1,3,8],\n",
    "    [1,9,6],\n",
    "    [1,11,7]        \n",
    "])\n",
    "\n",
    "Y = np.array(\n",
    "    [14,15,10,16]\n",
    ")\n",
    "\n",
    "\n",
    "learning_rate = 0.1\n",
    "itterations = 1\n",
    "new_thetas = data_test.gradient_descent( X, Y, learning_rate, itterations, theta_initials = 0, type = 'linear' )"
   ],
   "outputs": [
    {
     "output_type": "stream",
     "name": "stdout",
     "text": [
      "Linear GD gives {'theta0': 1.375, 'theta1': 9.19375, 'theta2': -35.5140625}\n"
     ]
    }
   ],
   "metadata": {}
  },
  {
   "cell_type": "code",
   "execution_count": null,
   "source": [
    "# NE gives [7.43333333 0.03333333 0.93333333]"
   ],
   "outputs": [],
   "metadata": {}
  },
  {
   "cell_type": "code",
   "execution_count": 26,
   "source": [
    "# get cost\n",
    "\n",
    "jack_thetas = [6, 2,-3]\n",
    "\n",
    "jim_thetas = [5,3,-4]\n",
    "\n",
    "jack_cost = data_test.get_cost(jack_thetas, X, Y, type = 'linear')\n",
    "jim_cost = data_test.get_cost(jim_thetas, X, Y, type = 'linear')"
   ],
   "outputs": [
    {
     "output_type": "stream",
     "name": "stdout",
     "text": [
      "Determining cost for thetas [6, 2, -3]...\n",
      "\n",
      "Prediction for observation 1: 5\n",
      "Error for prediction: 81\n",
      "\n",
      "Prediction for observation 2: -12\n",
      "Error for prediction: 729\n",
      "\n",
      "Prediction for observation 3: 6\n",
      "Error for prediction: 16\n",
      "\n",
      "Prediction for observation 4: 7\n",
      "Error for prediction: 81\n",
      "\n",
      "Total cost: 113.375.\n",
      "\n",
      "Determining cost for thetas [5, 3, -4]...\n",
      "\n",
      "Prediction for observation 1: 6\n",
      "Error for prediction: 64\n",
      "\n",
      "Prediction for observation 2: -18\n",
      "Error for prediction: 1089\n",
      "\n",
      "Prediction for observation 3: 8\n",
      "Error for prediction: 4\n",
      "\n",
      "Prediction for observation 4: 10\n",
      "Error for prediction: 36\n",
      "\n",
      "Total cost: 149.125.\n",
      "\n"
     ]
    }
   ],
   "metadata": {}
  },
  {
   "cell_type": "code",
   "execution_count": 27,
   "source": [
    "print(jack_cost)\n",
    "print(jim_cost)\n"
   ],
   "outputs": [
    {
     "output_type": "stream",
     "name": "stdout",
     "text": [
      "113.375\n",
      "149.125\n"
     ]
    }
   ],
   "metadata": {}
  },
  {
   "cell_type": "code",
   "execution_count": 32,
   "source": [
    "# Problem 4\n",
    "import math\n",
    "X = np.array([\n",
    "    [1,9,8],\n",
    "    [1,4,4],\n",
    "    [1,7,6],\n",
    "    [1,3,5],\n",
    "    [1,8,6]\n",
    "])\n",
    "\n",
    "Y = np.array([1,1,0,0,1])\n",
    "\n",
    "\n",
    "# find cost\n",
    "austin_thetas = [2,3,-2]\n",
    "victor_thetas = [1,2,-2]\n",
    "\n",
    "austin_cost = data_test.get_cost(austin_thetas, X, Y, type = 'log')\n",
    "victor_cost = data_test.get_cost(victor_thetas, X, Y, type = 'log')"
   ],
   "outputs": [
    {
     "output_type": "stream",
     "name": "stdout",
     "text": [
      "Determining cost for thetas [2, 3, -2]...\n",
      "\n"
     ]
    },
    {
     "output_type": "error",
     "ename": "NameError",
     "evalue": "name 'math' is not defined",
     "traceback": [
      "\u001b[0;31m---------------------------------------------------------------------------\u001b[0m",
      "\u001b[0;31mNameError\u001b[0m                                 Traceback (most recent call last)",
      "\u001b[0;32m<ipython-input-32-e52f650c8771>\u001b[0m in \u001b[0;36m<module>\u001b[0;34m\u001b[0m\n\u001b[1;32m     16\u001b[0m \u001b[0mvictor_thetas\u001b[0m \u001b[0;34m=\u001b[0m \u001b[0;34m[\u001b[0m\u001b[0;36m1\u001b[0m\u001b[0;34m,\u001b[0m\u001b[0;36m2\u001b[0m\u001b[0;34m,\u001b[0m\u001b[0;34m-\u001b[0m\u001b[0;36m2\u001b[0m\u001b[0;34m]\u001b[0m\u001b[0;34m\u001b[0m\u001b[0;34m\u001b[0m\u001b[0m\n\u001b[1;32m     17\u001b[0m \u001b[0;34m\u001b[0m\u001b[0m\n\u001b[0;32m---> 18\u001b[0;31m \u001b[0maustin_cost\u001b[0m \u001b[0;34m=\u001b[0m \u001b[0mdata_test\u001b[0m\u001b[0;34m.\u001b[0m\u001b[0mget_cost\u001b[0m\u001b[0;34m(\u001b[0m\u001b[0maustin_thetas\u001b[0m\u001b[0;34m,\u001b[0m \u001b[0mX\u001b[0m\u001b[0;34m,\u001b[0m \u001b[0mY\u001b[0m\u001b[0;34m,\u001b[0m \u001b[0mtype\u001b[0m \u001b[0;34m=\u001b[0m \u001b[0;34m'log'\u001b[0m\u001b[0;34m)\u001b[0m\u001b[0;34m\u001b[0m\u001b[0;34m\u001b[0m\u001b[0m\n\u001b[0m\u001b[1;32m     19\u001b[0m \u001b[0mvictor_cost\u001b[0m \u001b[0;34m=\u001b[0m \u001b[0mdata_test\u001b[0m\u001b[0;34m.\u001b[0m\u001b[0mget_cost\u001b[0m\u001b[0;34m(\u001b[0m\u001b[0mvictor_thetas\u001b[0m\u001b[0;34m,\u001b[0m \u001b[0mX\u001b[0m\u001b[0;34m,\u001b[0m \u001b[0mY\u001b[0m\u001b[0;34m,\u001b[0m \u001b[0mtype\u001b[0m \u001b[0;34m=\u001b[0m \u001b[0;34m'log'\u001b[0m\u001b[0;34m)\u001b[0m\u001b[0;34m\u001b[0m\u001b[0;34m\u001b[0m\u001b[0m\n",
      "\u001b[0;32m~/repos/class/data_mining_class/test_1_functions.py\u001b[0m in \u001b[0;36mget_cost\u001b[0;34m(thetas_list, inputs, outputs, type)\u001b[0m\n\u001b[1;32m     56\u001b[0m             \u001b[0;31m# Itterate through the data by observation\u001b[0m\u001b[0;34m\u001b[0m\u001b[0;34m\u001b[0m\u001b[0;34m\u001b[0m\u001b[0m\n\u001b[1;32m     57\u001b[0m             \u001b[0;32mfor\u001b[0m \u001b[0mx\u001b[0m\u001b[0;34m,\u001b[0m \u001b[0my\u001b[0m \u001b[0;32min\u001b[0m \u001b[0mzip\u001b[0m\u001b[0;34m(\u001b[0m\u001b[0minputs\u001b[0m\u001b[0;34m,\u001b[0m\u001b[0moutputs\u001b[0m\u001b[0;34m)\u001b[0m\u001b[0;34m:\u001b[0m\u001b[0;34m\u001b[0m\u001b[0;34m\u001b[0m\u001b[0m\n\u001b[0;32m---> 58\u001b[0;31m \u001b[0;34m\u001b[0m\u001b[0m\n\u001b[0m\u001b[1;32m     59\u001b[0m                 \u001b[0;31m# Prediction is just dot product of Vector x and list of thetas\u001b[0m\u001b[0;34m\u001b[0m\u001b[0;34m\u001b[0m\u001b[0;34m\u001b[0m\u001b[0m\n\u001b[1;32m     60\u001b[0m                 \u001b[0mprediction\u001b[0m \u001b[0;34m=\u001b[0m \u001b[0;36m1\u001b[0m\u001b[0;34m/\u001b[0m\u001b[0;34m(\u001b[0m\u001b[0;36m1\u001b[0m\u001b[0;34m+\u001b[0m\u001b[0;34m(\u001b[0m\u001b[0mmath\u001b[0m\u001b[0;34m.\u001b[0m\u001b[0me\u001b[0m\u001b[0;34m)\u001b[0m\u001b[0;34m**\u001b[0m\u001b[0;34m-\u001b[0m\u001b[0;34m(\u001b[0m\u001b[0mx\u001b[0m\u001b[0;34m.\u001b[0m\u001b[0mdot\u001b[0m\u001b[0;34m(\u001b[0m\u001b[0mthetas_list\u001b[0m\u001b[0;34m)\u001b[0m\u001b[0;34m)\u001b[0m\u001b[0;34m)\u001b[0m\u001b[0;34m\u001b[0m\u001b[0;34m\u001b[0m\u001b[0m\n",
      "\u001b[0;31mNameError\u001b[0m: name 'math' is not defined"
     ]
    }
   ],
   "metadata": {}
  },
  {
   "cell_type": "code",
   "execution_count": null,
   "source": [],
   "outputs": [],
   "metadata": {}
  }
 ],
 "metadata": {
  "orig_nbformat": 4,
  "language_info": {
   "name": "python",
   "version": "3.9.2",
   "mimetype": "text/x-python",
   "codemirror_mode": {
    "name": "ipython",
    "version": 3
   },
   "pygments_lexer": "ipython3",
   "nbconvert_exporter": "python",
   "file_extension": ".py"
  },
  "kernelspec": {
   "name": "python3",
   "display_name": "Python 3.9.2 64-bit ('general': conda)"
  },
  "interpreter": {
   "hash": "56a448c051c34e45e9834b3bc424179772d4669d3cb935d3f78ef5964f2ca1f5"
  }
 },
 "nbformat": 4,
 "nbformat_minor": 2
}