{
 "cells": [
  {
   "cell_type": "code",
   "execution_count": 1,
   "source": [
    "# Travis Simmons\n",
    "# Data Mining HW4\n",
    "\n",
    "import numpy as np\n",
    "import math"
   ],
   "outputs": [],
   "metadata": {}
  },
  {
   "cell_type": "code",
   "execution_count": 14,
   "source": [
    "# Problem 1\n",
    "\n",
    "X = np.array([\n",
    "    [1,4,2,1],\n",
    "    [1, 2,3.5,3],\n",
    "    [1,3,4,4],\n",
    "    [1,5,4,3],\n",
    "    [1,2,2,2]\n",
    "])\n",
    "\n",
    "# Given thetas\n",
    "thetas_list = [-10, 4, 3, -5]\n",
    "\n",
    "\n",
    "# Prediction storage list\n",
    "prediction_list = []\n",
    "\n",
    "# Itterate through the data by observation\n",
    "for x in X:\n",
    "\n",
    "    # Prediction is just dot product of Vector x and list of thetas\n",
    "    prediction = 1/(1+(math.e)**-(x.dot(thetas_list)))\n",
    "\n",
    "    # Store predictions\n",
    "    prediction_list.append(prediction)\n",
    "\n",
    "\n",
    "\n",
    "# Printing the results in a human readable way.\n",
    "names = ['Susan', 'Jim', 'Zack', 'Austin', 'Ana']\n",
    "\n",
    "\n",
    "for i in range(len(X)):\n",
    "\n",
    "    rounded_prediction =round(prediction_list[i])\n",
    "\n",
    "    if rounded_prediction == 1:\n",
    "        print(f'{names[i]} is predicted to pass the final.')\n",
    "    \n",
    "    else:\n",
    "        print(f'{names[i]} is predicted to fail the final.')\n",
    "\n",
    "\n",
    "\n"
   ],
   "outputs": [
    {
     "output_type": "stream",
     "name": "stdout",
     "text": [
      "Susan is predicted to pass the final.\n",
      "Jim is predicted to fail the final.\n",
      "Zack is predicted to fail the final.\n",
      "Austin is predicted to pass the final.\n",
      "Ana is predicted to fail the final.\n"
     ]
    }
   ],
   "metadata": {}
  },
  {
   "cell_type": "code",
   "execution_count": 2,
   "source": [
    "# Problem 2\n",
    "\n",
    "X = np.array([\n",
    "    [1,9,5,4,3],\n",
    "    [1,4,7,9,2],\n",
    "    [1,7,5,8,6],\n",
    "    [1,6,4,5,3],\n",
    "    [1,8,6,11,7],\n",
    "    [1,5,9,6,8],\n",
    "    [1,7,4,10,6],\n",
    "    [1,6,5,3,10],\n",
    "])\n",
    "\n",
    "Y = np.array([\n",
    "    [1,1,0,0,1,0,0,1]\n",
    "])"
   ],
   "outputs": [],
   "metadata": {}
  },
  {
   "cell_type": "code",
   "execution_count": 3,
   "source": [
    "dena_thetas = [-8,2,4,-6,-1]\n",
    "\n",
    "thomas_thetas = [-5,3,5,-4,-2]"
   ],
   "outputs": [],
   "metadata": {}
  },
  {
   "cell_type": "code",
   "execution_count": 4,
   "source": [
    "def get_log_cost(thetas_list, inputs, outputs):\n",
    "    print(f'Determining cost for thetas {thetas_list}')\n",
    "\n",
    "    # We will use this list to store all our errors for the summation\n",
    "    errors_list = []\n",
    "\n",
    "    \n",
    "    # Itterate through the data by observation\n",
    "    for x, y in zip(inputs,outputs[0]):\n",
    "        # print(x,y)\n",
    "\n",
    "        # Prediction is just dot product of Vector x and list of thetas\n",
    "        prediction = 1/(1+(math.e)**-(x.dot(thetas_list)))\n",
    "\n",
    "        # Add piecewize logistic cost function here\n",
    "        if y == 1:\n",
    "            obs_error = math.log(prediction)\n",
    "        \n",
    "        else:\n",
    "            obs_error = math.log(1-prediction)\n",
    "\n",
    "        errors_list.append(obs_error)\n",
    "\n",
    "    print(f'Errors by observation {errors_list}.')\n",
    "\n",
    "    total_cost = (-1/len(inputs)) * sum(errors_list)\n",
    "\n",
    "    print(f'Total cost: {total_cost}.')\n",
    "\n",
    "    return total_cost\n",
    "\n",
    "\n"
   ],
   "outputs": [],
   "metadata": {}
  },
  {
   "cell_type": "code",
   "execution_count": 5,
   "source": [
    "dena_cost = get_log_cost(dena_thetas, X, Y)\n",
    "\n",
    "thomas_cost = get_log_cost(thomas_thetas, X, Y)"
   ],
   "outputs": [
    {
     "output_type": "stream",
     "name": "stdout",
     "text": [
      "Determining cost for thetas [-8, 2, 4, -6, -1]\n",
      "Errors by observation [-0.04858735157374214, -28.00000000000069, -6.914468997367865e-13, -2.2603268524903463e-06, -41.0, -0.002475685137730443, 0.0, -4.0181499279178094].\n",
      "Total cost: 9.133651903119688.\n",
      "Determining cost for thetas [-5, 3, 5, -4, -2]\n",
      "Errors by observation [-1.3888001859737446e-11, -0.12692801104297263, -0.04858735157374202, -7.000911466453821, -9.000123402189722, -15.000000305680194, -1.1253516840995767e-07, -0.0024756851377303315].\n",
      "Total cost: 3.897378291828405.\n"
     ]
    }
   ],
   "metadata": {}
  },
  {
   "cell_type": "code",
   "execution_count": 6,
   "source": [
    "print(f'Thomas cost: {thomas_cost}')\n",
    "print(f'Dena cost: {dena_cost}')\n"
   ],
   "outputs": [
    {
     "output_type": "stream",
     "name": "stdout",
     "text": [
      "Thomas cost: 3.897378291828405\n",
      "Dena cost: 9.133651903119688\n"
     ]
    }
   ],
   "metadata": {}
  },
  {
   "cell_type": "code",
   "execution_count": null,
   "source": [],
   "outputs": [],
   "metadata": {}
  }
 ],
 "metadata": {
  "orig_nbformat": 4,
  "language_info": {
   "name": "python",
   "version": "3.9.2",
   "mimetype": "text/x-python",
   "codemirror_mode": {
    "name": "ipython",
    "version": 3
   },
   "pygments_lexer": "ipython3",
   "nbconvert_exporter": "python",
   "file_extension": ".py"
  },
  "kernelspec": {
   "name": "python3",
   "display_name": "Python 3.9.2 64-bit ('general': conda)"
  },
  "interpreter": {
   "hash": "56a448c051c34e45e9834b3bc424179772d4669d3cb935d3f78ef5964f2ca1f5"
  }
 },
 "nbformat": 4,
 "nbformat_minor": 2
}