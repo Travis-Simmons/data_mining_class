{
 "cells": [
  {
   "cell_type": "code",
   "execution_count": 1,
   "source": [
    "# Travis Simmons\n",
    "# Data Mining HW4\n",
    "\n",
    "import numpy as np\n",
    "import math"
   ],
   "outputs": [],
   "metadata": {}
  },
  {
   "cell_type": "code",
   "execution_count": 2,
   "source": [
    "# Problem 1\n",
    "\n",
    "X = np.array([\n",
    "    [1,4,2,1],\n",
    "    [1, 2,3.5,3],\n",
    "    [1,3,4,4],\n",
    "    [1,5,4,3],\n",
    "    [1,2,2,2]\n",
    "])\n",
    "\n",
    "# Given thetas\n",
    "thetas_list = [-10, 4, 3, -5]\n",
    "\n",
    "\n",
    "# Prediction storage list\n",
    "prediction_list = []\n",
    "\n",
    "# Itterate through the data by observation\n",
    "for x in X:\n",
    "\n",
    "    # Prediction is just dot product of Vector x and list of thetas\n",
    "    prediction = 1/(1+(math.e)**-(x.dot(thetas_list)))\n",
    "\n",
    "    # Store predictions\n",
    "    prediction_list.append(prediction)\n",
    "\n",
    "\n",
    "\n",
    "# Printing the results in a human readable way.\n",
    "names = ['Susan', 'Jim', 'Zack', 'Austin', 'Ana']\n",
    "\n",
    "\n",
    "for i in range(len(X)):\n",
    "\n",
    "    rounded_prediction =round(prediction_list[i])\n",
    "\n",
    "    if rounded_prediction == 1:\n",
    "        print(f'{names[i]} is predicted to pass the final.')\n",
    "    \n",
    "    else:\n",
    "        print(f'{names[i]} is predicted to fail the final.')\n",
    "\n",
    "\n",
    "\n"
   ],
   "outputs": [
    {
     "output_type": "stream",
     "name": "stdout",
     "text": [
      "Susan is predicted to pass the final.\n",
      "Jim is predicted to fail the final.\n",
      "Zack is predicted to fail the final.\n",
      "Austin is predicted to pass the final.\n",
      "Ana is predicted to fail the final.\n"
     ]
    }
   ],
   "metadata": {}
  },
  {
   "cell_type": "code",
   "execution_count": 59,
   "source": [
    "# Problem 2\n",
    "\n",
    "X = np.array([\n",
    "    [1,9,5,4,3],\n",
    "    [1,4,7,9,2],\n",
    "    [1,7,5,8,6],\n",
    "    [1,6,4,5,3],\n",
    "    [1,8,6,11,7],\n",
    "    [1,5,9,6,8],\n",
    "    [1,7,4,10,6],\n",
    "    [1,6,5,3,10],\n",
    "])\n",
    "\n",
    "Y = np.array([\n",
    "    [1,1,0,0,1,0,0,1]\n",
    "])"
   ],
   "outputs": [],
   "metadata": {}
  },
  {
   "cell_type": "code",
   "execution_count": 60,
   "source": [
    "dena_thetas = [-8,2,4,-6,-1]\n",
    "\n",
    "thomas_thetas = [-5,3,5,-4,-2]"
   ],
   "outputs": [],
   "metadata": {}
  },
  {
   "cell_type": "code",
   "execution_count": 61,
   "source": [
    "def get_log_cost(thetas_list, inputs, outputs):\n",
    "    print(f'Determining cost for thetas {thetas_list}...\\n')\n",
    "\n",
    "    # We will use this list to store all our errors for the summation\n",
    "    errors_list = []\n",
    "\n",
    "    cnt = 1\n",
    "    # Itterate through the data by observation\n",
    "    for x, y in zip(inputs,outputs[0]):\n",
    "        \n",
    "        # Prediction is just dot product of Vector x and list of thetas\n",
    "        prediction = 1/(1+(math.e)**-(x.dot(thetas_list)))\n",
    "   \n",
    "\n",
    "        # Log error function\n",
    "        obs_error = -(((y*math.log(prediction, 10)) + ((1-y)*math.log(1-prediction, 10))))\n",
    "\n",
    "\n",
    "        errors_list.append(obs_error)\n",
    "\n",
    "        print(f'Prediction for observation {cnt}: {prediction}')\n",
    "     \n",
    "        print(f'Error for prediction: {errors_list[cnt-1]}\\n')\n",
    "        cnt += 1 \n",
    "\n",
    "    total_cost = ((1/len(outputs)) * sum(errors_list))\n",
    "\n",
    "    print(f'Total cost: {total_cost}.\\n')\n",
    "\n",
    "    return total_cost\n",
    "\n",
    "\n"
   ],
   "outputs": [],
   "metadata": {}
  },
  {
   "cell_type": "code",
   "execution_count": 62,
   "source": [
    "dena_cost = get_log_cost(dena_thetas, X, Y)"
   ],
   "outputs": [
    {
     "output_type": "stream",
     "name": "stdout",
     "text": [
      "Determining cost for thetas [-8, 2, 4, -6, -1]...\n",
      "\n",
      "Prediction for observation 1: 0.9525741268224331\n",
      "Error for prediction: 0.021101218678769487\n",
      "\n",
      "Prediction for observation 2: 6.914400106935433e-13\n",
      "Error for prediction: 12.160245493291349\n",
      "\n",
      "Prediction for observation 3: 6.914400106935433e-13\n",
      "Error for prediction: 3.0029157308479736e-13\n",
      "\n",
      "Prediction for observation 4: 2.260324297903576e-06\n",
      "Error for prediction: 9.816474793343027e-07\n",
      "\n",
      "Prediction for observation 5: 1.5628821893349923e-18\n",
      "Error for prediction: 17.806073758033325\n",
      "\n",
      "Prediction for observation 6: 0.002472623156634775\n",
      "Error for prediction: 0.0010751763942462233\n",
      "\n",
      "Prediction for observation 7: 7.781132241133815e-20\n",
      "Error for prediction: -0.0\n",
      "\n",
      "Prediction for observation 8: 0.017986209962091562\n",
      "Error for prediction: 1.7450603411546535\n",
      "\n",
      "Total cost: 31.733556969200123.\n",
      "\n"
     ]
    }
   ],
   "metadata": {}
  },
  {
   "cell_type": "code",
   "execution_count": 63,
   "source": [
    "thomas_cost = get_log_cost(thomas_thetas, X, Y)"
   ],
   "outputs": [
    {
     "output_type": "stream",
     "name": "stdout",
     "text": [
      "Determining cost for thetas [-5, 3, 5, -4, -2]...\n",
      "\n",
      "Prediction for observation 1: 0.999999999986112\n",
      "Error for prediction: 6.031482572346071e-12\n",
      "\n",
      "Prediction for observation 2: 0.8807970779778823\n",
      "Error for prediction: 0.05512413479491802\n",
      "\n",
      "Prediction for observation 3: 0.04742587317756679\n",
      "Error for prediction: 0.021101218678769434\n",
      "\n",
      "Prediction for observation 4: 0.9990889488055994\n",
      "Error for prediction: 3.040457218174097\n",
      "\n",
      "Prediction for observation 5: 0.0001233945759862318\n",
      "Error for prediction: 3.908703930019317\n",
      "\n",
      "Prediction for observation 6: 0.999999694097773\n",
      "Error for prediction: 6.514417361303998\n",
      "\n",
      "Prediction for observation 7: 1.1253516205509509e-07\n",
      "Error for prediction: 4.887340266049775e-08\n",
      "\n",
      "Prediction for observation 8: 0.9975273768433653\n",
      "Error for prediction: 0.001075176394246175\n",
      "\n",
      "Total cost: 13.54087908824478.\n",
      "\n"
     ]
    }
   ],
   "metadata": {}
  },
  {
   "cell_type": "code",
   "execution_count": 56,
   "source": [
    "print(f'Dena cost: {dena_cost}')\n",
    "print(f'Thomas cost: {thomas_cost}')\n",
    "\n"
   ],
   "outputs": [
    {
     "output_type": "stream",
     "name": "stdout",
     "text": [
      "Dena cost: 31.733556969200123\n",
      "Thomas cost: 13.54087908824478\n"
     ]
    }
   ],
   "metadata": {}
  }
 ],
 "metadata": {
  "orig_nbformat": 4,
  "language_info": {
   "name": "python",
   "version": "3.9.2",
   "mimetype": "text/x-python",
   "codemirror_mode": {
    "name": "ipython",
    "version": 3
   },
   "pygments_lexer": "ipython3",
   "nbconvert_exporter": "python",
   "file_extension": ".py"
  },
  "kernelspec": {
   "name": "python3",
   "display_name": "Python 3.9.2 64-bit ('general': conda)"
  },
  "interpreter": {
   "hash": "56a448c051c34e45e9834b3bc424179772d4669d3cb935d3f78ef5964f2ca1f5"
  }
 },
 "nbformat": 4,
 "nbformat_minor": 2
}