{
 "cells": [
  {
   "cell_type": "code",
   "execution_count": 1,
   "source": [
    "# Name: Travis Simmons\n",
    "# Date: October 18, 2021\n",
    "# Project: HW5\n",
    "\n",
    "import numpy as np\n",
    "import test_1_functions as tf"
   ],
   "outputs": [],
   "metadata": {}
  },
  {
   "cell_type": "code",
   "execution_count": 2,
   "source": [
    "# Problem 1\n",
    "\n",
    "X = np.array([[1,2],[1,3],[1,5],[1,9],[1,10]])\n",
    "\n",
    "Y = np.array([1,4,7,6,8])\n"
   ],
   "outputs": [],
   "metadata": {}
  },
  {
   "cell_type": "code",
   "execution_count": 3,
   "source": [
    "# Use non-regularized NE\n",
    "\n",
    "tf.data_test.get_ne(X, Y)"
   ],
   "outputs": [
    {
     "output_type": "stream",
     "name": "stdout",
     "text": [
      "Non-regularized NE gives [1.52362205 0.63385827]\n"
     ]
    }
   ],
   "metadata": {}
  },
  {
   "cell_type": "code",
   "execution_count": 4,
   "source": [
    "# Use regularized NE\n",
    "print(X, Y)\n",
    "tf.data_test.get_ne(X, Y, lamb = 100, regularization= True)"
   ],
   "outputs": [
    {
     "output_type": "stream",
     "name": "stdout",
     "text": [
      "[[ 1  2]\n",
      " [ 1  3]\n",
      " [ 1  5]\n",
      " [ 1  9]\n",
      " [ 1 10]] [1 4 7 6 8]\n",
      "Regularized NE gives [3.96153846 0.21352785]\n"
     ]
    }
   ],
   "metadata": {}
  },
  {
   "cell_type": "code",
   "execution_count": 10,
   "source": [
    "# Problem 2\n",
    "\n",
    "X = np.array([\n",
    "    [1,10,6,5,11],\n",
    "    [1,4,8,9,3],\n",
    "    [1,7,5,3,4],\n",
    "    [1,16,10,8,9],\n",
    "    [1,12,15,11,16],\n",
    "    [1,5,9,6,8],\n",
    "    [1,17,14,10,15]\n",
    "\n",
    "])\n",
    "\n",
    "Y = [20,18,11,26,49,17,31]"
   ],
   "outputs": [],
   "metadata": {}
  },
  {
   "cell_type": "code",
   "execution_count": 11,
   "source": [
    "# Fit with non-regularized linear ne\n",
    "\n",
    "tf.data_test.get_ne(X, Y)"
   ],
   "outputs": [
    {
     "output_type": "stream",
     "name": "stdout",
     "text": [
      "Non-regularized NE gives [-3.91161916 -0.27150108  0.53569403  1.71997188  1.41405869]\n"
     ]
    }
   ],
   "metadata": {}
  },
  {
   "cell_type": "code",
   "execution_count": 12,
   "source": [
    "# Fit with regularized linear ne\n",
    "\n",
    "tf.data_test.get_ne(X,Y, regularization=True)"
   ],
   "outputs": [
    {
     "output_type": "stream",
     "name": "stdout",
     "text": [
      "Regularized NE gives [3.6627799  0.22882435 0.72289352 0.57506786 0.7844942 ]\n"
     ]
    }
   ],
   "metadata": {}
  },
  {
   "cell_type": "code",
   "execution_count": 13,
   "source": [
    "# check work using given problem in the notes\n",
    "\n",
    "# True value:\n",
    "# NE gives [ 1.70553981e+01 -7.81534101e-02  1.22643970e-02 -3.74157553e-01]\n",
    "\n",
    "X = np.array([[1,5,7,12],[1,4,3,2],[1,11,14,6],[1,8,7,1],[1,9,6,4],[1,3,5,9]])\n",
    "Y = np.array([11,24,17,16,9,10])\n",
    "\n",
    "tf.data_test.gradient_descent(X,Y, itterations = 50000, learning_rate = 0.001,type = 'linear', regularization=True)\n",
    "tf.data_test.get_ne(X,Y,regularization=True)"
   ],
   "outputs": [
    {
     "output_type": "stream",
     "name": "stdout",
     "text": [
      "Regularized linear GD gives {'theta0': 17.054710293629643, 'theta1': -0.07811903267888685, 'theta2': 0.012287681817201112, 'theta3': -0.3741299351358906}\n",
      "Regularized NE gives [ 1.70553981e+01 -7.81534101e-02  1.22643970e-02 -3.74157553e-01]\n"
     ]
    }
   ],
   "metadata": {}
  },
  {
   "cell_type": "code",
   "execution_count": null,
   "source": [],
   "outputs": [],
   "metadata": {}
  }
 ],
 "metadata": {
  "orig_nbformat": 4,
  "language_info": {
   "name": "python",
   "version": "3.9.2",
   "mimetype": "text/x-python",
   "codemirror_mode": {
    "name": "ipython",
    "version": 3
   },
   "pygments_lexer": "ipython3",
   "nbconvert_exporter": "python",
   "file_extension": ".py"
  },
  "kernelspec": {
   "name": "python3",
   "display_name": "Python 3.9.2 64-bit ('general': conda)"
  },
  "interpreter": {
   "hash": "56a448c051c34e45e9834b3bc424179772d4669d3cb935d3f78ef5964f2ca1f5"
  }
 },
 "nbformat": 4,
 "nbformat_minor": 2
}