{
 "cells": [
  {
   "cell_type": "code",
   "execution_count": 1,
   "metadata": {},
   "outputs": [],
   "source": [
    "import numpy as np\n",
    "\n",
    "import math\n",
    "\n",
    "    # custom function\n",
    "def sigmoid(x):\n",
    "    return 1 / (1 + math.exp(-x))\n",
    "\n",
    "def do_input_layer(observation, parameter_matrixes):\n",
    "\n",
    "       # add bias term\n",
    "    observation = np.insert(observation, 0, 1, axis=0)\n",
    "    # define vectorized sigmoid\n",
    "    sigmoid_v = np.vectorize(sigmoid)\n",
    "\n",
    "    z2 =  np.dot(parameter_matrixes[0], observation)\n",
    "    # print(z2)\n",
    "\n",
    "    A2 = sigmoid_v(z2)\n",
    "\n",
    "    # add bias term\n",
    "    A2 = np.insert(A2, 0, 1, axis=0)\n",
    "    print('Layer 1:', observation)\n",
    "    return A2\n",
    "\n",
    "\n",
    "def do_hidden_layer(next_layer, parameter_matrixes, layer_number):\n",
    "    z =  np.dot(parameter_matrixes[layer_number], next_layer)\n",
    "    sigmoid_v = np.vectorize(sigmoid)\n",
    "\n",
    "    A = sigmoid_v(z)\n",
    "    if layer_number != len(parameter_matrixes)-1:\n",
    "        A = np.insert(A, 0, 1, axis=0)\n",
    "\n",
    "    \n",
    "    return A\n",
    "\n",
    "\n",
    "def calculate_layer(observation, next_layer, parameter_matrixes, layer_number):\n",
    "    if layer_number == 0:\n",
    "        l2 = do_input_layer(observation, parameter_matrixes)\n",
    "        print('Layer 2:', l2)\n",
    "        return l2\n",
    "    \n",
    "    else:\n",
    "        nl = do_hidden_layer(next_layer, parameter_matrixes, layer_number)\n",
    "        # print(layer_number, nl)\n",
    "        print(f'Layer{layer_number+2}:',nl)\n",
    "\n",
    "        return nl\n",
    "\n",
    "\n",
    "\n",
    "def feed_forward(observation, parameter_matrixes):\n",
    "    layer_number = 0\n",
    "\n",
    "    # define vectorized sigmoid\n",
    "    sigmoid_v = np.vectorize(sigmoid)\n",
    "    next_layer = 0\n",
    "    for i in range(len(parameter_matrixes)):\n",
    "        # print(i)\n",
    "        next_layer = calculate_layer(observation, next_layer, parameter_matrixes, layer_number)\n",
    "        layer_number += 1\n",
    "\n",
    "    return next_layer \n",
    "\n",
    "\n"
   ]
  },
  {
   "cell_type": "code",
   "execution_count": 14,
   "metadata": {},
   "outputs": [],
   "source": [
    "# Problem 1\n",
    "\n",
    "\n",
    "# list of inbetween matrixes (size of all internal layers)\n",
    "parameter_matrixes = np.array([\n",
    "    [\n",
    "        [.2, -1.5, 3.7, -0.8, -1.9],\n",
    "        [2.3, 0.4, -2.6, -3.3, 5.4],\n",
    "        [-1.6, 2.8, 3.9, -4.5, -1]\n",
    "    ],\n",
    "    [\n",
    "        [-0.7, 1.2, 3.4, -2],\n",
    "        [-.8, -.4, 2.5, 2.9],\n",
    "        [1.6, 2.5, -4, -1.7],\n",
    "        [3.3, -2, 4.5, -5],\n",
    "        [-1, -3, 2.2, -.8] \n",
    "    ],\n",
    "], dtype = object)\n",
    "\n",
    "# observation (len of obsercation is input nodes)\n",
    "\n",
    "observation = np.array([9, 5, 2, 3])"
   ]
  },
  {
   "cell_type": "code",
   "execution_count": 15,
   "metadata": {},
   "outputs": [
    {
     "name": "stdout",
     "output_type": "stream",
     "text": [
      "Layer 1: [9 5 2 3]\n",
      "Layer 2: [1.         0.10909682 0.92414182 1.        ]\n",
      "Layer3: [0.63945475 0.98746623 0.02864188 0.90382311 0.47647277]\n",
      "Prediction for observation: [0.63945475 0.98746623 0.02864188 0.90382311 0.47647277]\n"
     ]
    }
   ],
   "source": [
    "prediction = feed_forward(observation, parameter_matrixes)\n",
    "\n",
    "print(f'Prediction for observation:', prediction)"
   ]
  },
  {
   "cell_type": "code",
   "execution_count": 12,
   "metadata": {},
   "outputs": [],
   "source": [
    "observation = np.array([4, 6, 3])\n",
    "\n",
    "parameter_matrixes = np.array([\n",
    "    [\n",
    "        [-2,5, 1.6, 3.8, 2.7],\n",
    "        [.9,2.2,-5,-2]\n",
    "    ],\n",
    "    [\n",
    "        [-3.3, 2.4, 1.5],\n",
    "        [.7, .1, -1],\n",
    "        [2.5, -1.8, -1.6],\n",
    "        [.4, -.5, 1]\n",
    "    ],\n",
    "    [\n",
    "        [.6, -.4, -2, 3, 1],\n",
    "        [-.5, .6, 1.1, 2.3, -3],\n",
    "        [2.9,-3, -2, -1, 4]\n",
    "    ]\n",
    "], dtype = object)"
   ]
  },
  {
   "cell_type": "code",
   "execution_count": 13,
   "metadata": {},
   "outputs": [
    {
     "name": "stdout",
     "output_type": "stream",
     "text": [
      "Layer 1: [4 6 3]\n"
     ]
    },
    {
     "ename": "ValueError",
     "evalue": "shapes (2,) and (4,) not aligned: 2 (dim 0) != 4 (dim 0)",
     "output_type": "error",
     "traceback": [
      "\u001b[0;31m---------------------------------------------------------------------------\u001b[0m",
      "\u001b[0;31mValueError\u001b[0m                                Traceback (most recent call last)",
      "\u001b[0;32m/tmp/ipykernel_45396/3938937623.py\u001b[0m in \u001b[0;36m<module>\u001b[0;34m\u001b[0m\n\u001b[0;32m----> 1\u001b[0;31m \u001b[0mprediction\u001b[0m \u001b[0;34m=\u001b[0m \u001b[0mfeed_forward\u001b[0m\u001b[0;34m(\u001b[0m\u001b[0mobservation\u001b[0m\u001b[0;34m,\u001b[0m \u001b[0mparameter_matrixes\u001b[0m\u001b[0;34m)\u001b[0m\u001b[0;34m\u001b[0m\u001b[0;34m\u001b[0m\u001b[0m\n\u001b[0m\u001b[1;32m      2\u001b[0m \u001b[0;34m\u001b[0m\u001b[0m\n\u001b[1;32m      3\u001b[0m \u001b[0mprint\u001b[0m\u001b[0;34m(\u001b[0m\u001b[0;34mf'Prediction for observation:'\u001b[0m\u001b[0;34m,\u001b[0m \u001b[0mprediction\u001b[0m\u001b[0;34m)\u001b[0m\u001b[0;34m\u001b[0m\u001b[0;34m\u001b[0m\u001b[0m\n",
      "\u001b[0;32m/tmp/ipykernel_45396/2012561324.py\u001b[0m in \u001b[0;36mfeed_forward\u001b[0;34m(observation, parameter_matrixes)\u001b[0m\n\u001b[1;32m     82\u001b[0m     \u001b[0;32mfor\u001b[0m \u001b[0mi\u001b[0m \u001b[0;32min\u001b[0m \u001b[0mrange\u001b[0m\u001b[0;34m(\u001b[0m\u001b[0mlen\u001b[0m\u001b[0;34m(\u001b[0m\u001b[0mparameter_matrixes\u001b[0m\u001b[0;34m)\u001b[0m\u001b[0;34m)\u001b[0m\u001b[0;34m:\u001b[0m\u001b[0;34m\u001b[0m\u001b[0;34m\u001b[0m\u001b[0m\n\u001b[1;32m     83\u001b[0m         \u001b[0;31m# print(i)\u001b[0m\u001b[0;34m\u001b[0m\u001b[0;34m\u001b[0m\u001b[0;34m\u001b[0m\u001b[0m\n\u001b[0;32m---> 84\u001b[0;31m         \u001b[0mnext_layer\u001b[0m \u001b[0;34m=\u001b[0m \u001b[0mcalculate_layer\u001b[0m\u001b[0;34m(\u001b[0m\u001b[0mobservation\u001b[0m\u001b[0;34m,\u001b[0m \u001b[0mnext_layer\u001b[0m\u001b[0;34m,\u001b[0m \u001b[0mparameter_matrixes\u001b[0m\u001b[0;34m,\u001b[0m \u001b[0mlayer_number\u001b[0m\u001b[0;34m)\u001b[0m\u001b[0;34m\u001b[0m\u001b[0;34m\u001b[0m\u001b[0m\n\u001b[0m\u001b[1;32m     85\u001b[0m         \u001b[0mlayer_number\u001b[0m \u001b[0;34m+=\u001b[0m \u001b[0;36m1\u001b[0m\u001b[0;34m\u001b[0m\u001b[0;34m\u001b[0m\u001b[0m\n\u001b[1;32m     86\u001b[0m \u001b[0;34m\u001b[0m\u001b[0m\n",
      "\u001b[0;32m/tmp/ipykernel_45396/2012561324.py\u001b[0m in \u001b[0;36mcalculate_layer\u001b[0;34m(observation, next_layer, parameter_matrixes, layer_number)\u001b[0m\n\u001b[1;32m     61\u001b[0m \u001b[0;32mdef\u001b[0m \u001b[0mcalculate_layer\u001b[0m\u001b[0;34m(\u001b[0m\u001b[0mobservation\u001b[0m\u001b[0;34m,\u001b[0m \u001b[0mnext_layer\u001b[0m\u001b[0;34m,\u001b[0m \u001b[0mparameter_matrixes\u001b[0m\u001b[0;34m,\u001b[0m \u001b[0mlayer_number\u001b[0m\u001b[0;34m)\u001b[0m\u001b[0;34m:\u001b[0m\u001b[0;34m\u001b[0m\u001b[0;34m\u001b[0m\u001b[0m\n\u001b[1;32m     62\u001b[0m     \u001b[0;32mif\u001b[0m \u001b[0mlayer_number\u001b[0m \u001b[0;34m==\u001b[0m \u001b[0;36m0\u001b[0m\u001b[0;34m:\u001b[0m\u001b[0;34m\u001b[0m\u001b[0;34m\u001b[0m\u001b[0m\n\u001b[0;32m---> 63\u001b[0;31m         \u001b[0ml2\u001b[0m \u001b[0;34m=\u001b[0m \u001b[0mdo_input_layer\u001b[0m\u001b[0;34m(\u001b[0m\u001b[0mobservation\u001b[0m\u001b[0;34m,\u001b[0m \u001b[0mparameter_matrixes\u001b[0m\u001b[0;34m)\u001b[0m\u001b[0;34m\u001b[0m\u001b[0;34m\u001b[0m\u001b[0m\n\u001b[0m\u001b[1;32m     64\u001b[0m         \u001b[0mprint\u001b[0m\u001b[0;34m(\u001b[0m\u001b[0;34m'Layer 2:'\u001b[0m\u001b[0;34m,\u001b[0m \u001b[0ml2\u001b[0m\u001b[0;34m)\u001b[0m\u001b[0;34m\u001b[0m\u001b[0;34m\u001b[0m\u001b[0m\n\u001b[1;32m     65\u001b[0m         \u001b[0;32mreturn\u001b[0m \u001b[0ml2\u001b[0m\u001b[0;34m\u001b[0m\u001b[0;34m\u001b[0m\u001b[0m\n",
      "\u001b[0;32m/tmp/ipykernel_45396/2012561324.py\u001b[0m in \u001b[0;36mdo_input_layer\u001b[0;34m(observation, parameter_matrixes)\u001b[0m\n\u001b[1;32m     37\u001b[0m     \u001b[0msigmoid_v\u001b[0m \u001b[0;34m=\u001b[0m \u001b[0mnp\u001b[0m\u001b[0;34m.\u001b[0m\u001b[0mvectorize\u001b[0m\u001b[0;34m(\u001b[0m\u001b[0msigmoid\u001b[0m\u001b[0;34m)\u001b[0m\u001b[0;34m\u001b[0m\u001b[0;34m\u001b[0m\u001b[0m\n\u001b[1;32m     38\u001b[0m \u001b[0;34m\u001b[0m\u001b[0m\n\u001b[0;32m---> 39\u001b[0;31m     \u001b[0mz2\u001b[0m \u001b[0;34m=\u001b[0m  \u001b[0mnp\u001b[0m\u001b[0;34m.\u001b[0m\u001b[0mdot\u001b[0m\u001b[0;34m(\u001b[0m\u001b[0mparameter_matrixes\u001b[0m\u001b[0;34m[\u001b[0m\u001b[0;36m0\u001b[0m\u001b[0;34m]\u001b[0m\u001b[0;34m,\u001b[0m \u001b[0mobservation\u001b[0m\u001b[0;34m)\u001b[0m\u001b[0;34m\u001b[0m\u001b[0;34m\u001b[0m\u001b[0m\n\u001b[0m\u001b[1;32m     40\u001b[0m     \u001b[0;31m# print(z2)\u001b[0m\u001b[0;34m\u001b[0m\u001b[0;34m\u001b[0m\u001b[0;34m\u001b[0m\u001b[0m\n\u001b[1;32m     41\u001b[0m \u001b[0;34m\u001b[0m\u001b[0m\n",
      "\u001b[0;32m<__array_function__ internals>\u001b[0m in \u001b[0;36mdot\u001b[0;34m(*args, **kwargs)\u001b[0m\n",
      "\u001b[0;31mValueError\u001b[0m: shapes (2,) and (4,) not aligned: 2 (dim 0) != 4 (dim 0)"
     ]
    }
   ],
   "source": [
    "prediction = feed_forward(observation, parameter_matrixes)\n",
    "\n",
    "print(f'Prediction for observation:', prediction)"
   ]
  },
  {
   "cell_type": "code",
   "execution_count": null,
   "metadata": {},
   "outputs": [],
   "source": []
  }
 ],
 "metadata": {
  "interpreter": {
   "hash": "0e8cd04f7bb55943f5dedf315d11437faa3231527c7965003438a46da2438c61"
  },
  "kernelspec": {
   "display_name": "Python 3.8.12 64-bit ('3d': conda)",
   "name": "python3"
  },
  "language_info": {
   "codemirror_mode": {
    "name": "ipython",
    "version": 3
   },
   "file_extension": ".py",
   "mimetype": "text/x-python",
   "name": "python",
   "nbconvert_exporter": "python",
   "pygments_lexer": "ipython3",
   "version": "3.8.12"
  },
  "orig_nbformat": 4
 },
 "nbformat": 4,
 "nbformat_minor": 2
}
