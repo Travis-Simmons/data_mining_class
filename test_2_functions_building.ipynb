{
 "cells": [
  {
   "cell_type": "code",
   "execution_count": 126,
   "source": [
    "import numpy as np\n",
    "\n",
    "import math\n",
    "\n",
    "    # custom function\n",
    "def sigmoid(x):\n",
    "    return 1 / (1 + math.exp(-x))\n",
    "\n",
    "def do_input_layer(observation, parameter_matrixes):\n",
    "\n",
    "       # add bias term\n",
    "    observation = np.insert(observation, 0, 1, axis=0)\n",
    "    # define vectorized sigmoid\n",
    "    sigmoid_v = np.vectorize(sigmoid)\n",
    "    # print(observation, parameter_matrixes[0])\n",
    "    z2 =  np.dot(parameter_matrixes[0], observation)\n",
    "    # print(z2)\n",
    "\n",
    "    A2 = sigmoid_v(z2)\n",
    "\n",
    "    # add bias term\n",
    "    A2 = np.insert(A2, 0, 1, axis=0)\n",
    "    print('Layer 1:', observation)\n",
    "    return A2\n",
    "\n",
    "\n",
    "def do_hidden_layer(next_layer, parameter_matrixes, layer_number):\n",
    "    z =  np.dot(parameter_matrixes[layer_number], next_layer)\n",
    "    sigmoid_v = np.vectorize(sigmoid)\n",
    "\n",
    "    A = sigmoid_v(z)\n",
    "    if layer_number != len(parameter_matrixes)-1:\n",
    "        A = np.insert(A, 0, 1, axis=0)\n",
    "\n",
    "    \n",
    "    return A\n",
    "\n",
    "\n",
    "def calculate_layer(observation, next_layer, parameter_matrixes, layer_number):\n",
    "    if layer_number == 0:\n",
    "        l2 = do_input_layer(observation, parameter_matrixes)\n",
    "        print('Layer 2:', l2)\n",
    "        return l2\n",
    "    \n",
    "    else:\n",
    "        nl = do_hidden_layer(next_layer, parameter_matrixes, layer_number)\n",
    "        # print(layer_number, nl)\n",
    "        print(f'Layer{layer_number+2}:',nl)\n",
    "\n",
    "        return nl\n",
    "\n",
    "\n",
    "\n",
    "def feed_forward(observations, parameter_matrixes):\n",
    "\n",
    "    output = []\n",
    "    observation_number = 1\n",
    "    for observation in observations:\n",
    "        \n",
    "        print(f'\\n Calculating prediction for observation {observation_number}. ')\n",
    "        layer_number = 0\n",
    "\n",
    "        # define vectorized sigmoid\n",
    "        sigmoid_v = np.vectorize(sigmoid)\n",
    "        next_layer = 0\n",
    "        for i in range(len(parameter_matrixes)):\n",
    "            # print(i)\n",
    "            next_layer = calculate_layer(observation, next_layer, parameter_matrixes, layer_number)\n",
    "            layer_number += 1\n",
    "\n",
    "        # output.append(next_layer)\n",
    "        output.append(next_layer)\n",
    "\n",
    "        observation_number +=1\n",
    "    \n",
    "    output = np.stack(output)\n",
    "    prediction_array = np.argmax(output, axis=1)\n",
    "\n",
    "    num = 1\n",
    "    for i in prediction_array:\n",
    "        print(f'\\n Prediction for observations {num} == category {i+1}.')\n",
    "        num += 1\n",
    "\n",
    "    return output, prediction_array\n",
    "\n",
    "\n"
   ],
   "outputs": [],
   "metadata": {}
  },
  {
   "cell_type": "code",
   "execution_count": 127,
   "source": [
    "# Problem 1\n",
    "\n",
    "\n",
    "# list of inbetween matrixes (size of all internal layers)\n",
    "parameter_matrixes = np.array([\n",
    "    [\n",
    "        [.2, -1.5, 3.7, -0.8, -1.9],\n",
    "        [2.3, 0.4, -2.6, -3.3, 5.4],\n",
    "        [-1.6, 2.8, 3.9, -4.5, -1]\n",
    "    ],\n",
    "    [\n",
    "        [-0.7, 1.2, 3.4, -2],\n",
    "        [-.8, -.4, 2.5, 2.9],\n",
    "        [1.6, 2.5, -4, -1.7],\n",
    "        [3.3, -2, 4.5, -5],\n",
    "        [-1, -3, 2.2, -.8] \n",
    "    ],\n",
    "], dtype = object)\n",
    "\n",
    "# observation (len of obsercation is input nodes)\n",
    "\n",
    "observation = np.array([[9, 5, 2, 3]])"
   ],
   "outputs": [],
   "metadata": {}
  },
  {
   "cell_type": "code",
   "execution_count": 128,
   "source": [
    "outputs, prediction = feed_forward(observation, parameter_matrixes)"
   ],
   "outputs": [
    {
     "output_type": "stream",
     "name": "stdout",
     "text": [
      "\n",
      " Calculating prediction for observation 1. \n",
      "Layer 1: [1 9 5 2 3]\n",
      "Layer 2: [1.         0.10909682 0.92414182 1.        ]\n",
      "Layer3: [0.63945475 0.98746623 0.02864188 0.90382311 0.47647277]\n",
      "\n",
      " Prediction for observations 1 == category 2.\n"
     ]
    }
   ],
   "metadata": {}
  },
  {
   "cell_type": "code",
   "execution_count": 129,
   "source": [
    "# Problem Two\n",
    "\n",
    "observation = np.array([[4,6,3],[4,6,7]])\n",
    "\n",
    "print(observation.shape[0])\n",
    "\n",
    "parameter_matrixes = np.array([\n",
    "    [\n",
    "        [-2.5, 1.6, 3.8, 2.7],\n",
    "        [.9,2.2,-5,-2]\n",
    "    ],\n",
    "    [\n",
    "        [-3.3, 2.4, 1.5],\n",
    "        [.7, .1, -1],\n",
    "        [2.5, -1.8, -1.6],\n",
    "        [.4, -.5, 1]\n",
    "    ],\n",
    "    [\n",
    "        [.6, -.4, -2, 3, 1],\n",
    "        [-.5, .6, 1.1, 2.3, -3],\n",
    "        [2.9,-3, -2, -1, 4]\n",
    "    ]\n",
    "], dtype = object)"
   ],
   "outputs": [
    {
     "output_type": "stream",
     "name": "stdout",
     "text": [
      "2\n"
     ]
    }
   ],
   "metadata": {}
  },
  {
   "cell_type": "code",
   "execution_count": 130,
   "source": [
    "outputs, prediction = feed_forward(observation, parameter_matrixes)\n"
   ],
   "outputs": [
    {
     "output_type": "stream",
     "name": "stdout",
     "text": [
      "\n",
      " Calculating prediction for observation 1. \n",
      "Layer 1: [1 4 6 3]\n",
      "Layer 2: [1.00000000e+00 1.00000000e+00 3.78490624e-12]\n",
      "Layer3: [1.         0.2890505  0.68997448 0.66818777 0.47502081]\n",
      "Layer4: [0.82977238 0.63278232 0.86816092]\n",
      "\n",
      " Calculating prediction for observation 2. \n",
      "Layer 1: [1 4 6 7]\n",
      "Layer 2: [1.00000000e+00 1.00000000e+00 1.26969459e-15]\n",
      "Layer3: [1.         0.2890505  0.68997448 0.66818777 0.47502081]\n",
      "Layer4: [0.82977238 0.63278232 0.86816092]\n",
      "\n",
      " Prediction for observations 1 == category 3.\n",
      "\n",
      " Prediction for observations 2 == category 3.\n"
     ]
    }
   ],
   "metadata": {}
  },
  {
   "cell_type": "code",
   "execution_count": null,
   "source": [],
   "outputs": [],
   "metadata": {}
  },
  {
   "cell_type": "code",
   "execution_count": null,
   "source": [],
   "outputs": [],
   "metadata": {}
  }
 ],
 "metadata": {
  "interpreter": {
   "hash": "56a448c051c34e45e9834b3bc424179772d4669d3cb935d3f78ef5964f2ca1f5"
  },
  "kernelspec": {
   "name": "python3",
   "display_name": "Python 3.9.2 64-bit ('general': conda)"
  },
  "language_info": {
   "codemirror_mode": {
    "name": "ipython",
    "version": 3
   },
   "file_extension": ".py",
   "mimetype": "text/x-python",
   "name": "python",
   "nbconvert_exporter": "python",
   "pygments_lexer": "ipython3",
   "version": "3.9.2"
  },
  "orig_nbformat": 4
 },
 "nbformat": 4,
 "nbformat_minor": 2
}