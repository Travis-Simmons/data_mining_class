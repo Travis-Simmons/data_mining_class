{
 "cells": [
  {
   "cell_type": "code",
   "execution_count": 1,
   "source": [
    "import numpy as np\n",
    "\n",
    "X = np.array([[1,10,6,5,11],[1,4,8,9,3],[1,7,5,3,4],[1,16,10,8,9],[1,12,15,11,16], [1,5,9,6,8], [1,17,14,10,15]])\n",
    "Y = np.array([20,18,11,26,49,17,31])\n",
    "\n",
    "\n",
    "\n",
    "\n"
   ],
   "outputs": [],
   "metadata": {}
  },
  {
   "cell_type": "code",
   "execution_count": 7,
   "source": [
    "# Below uses Gradient Descent Algorithm\n",
    "\n",
    "theta0 = 0\n",
    "theta1 = 0\n",
    "theta2 = 0\n",
    "theta3 = 0\n",
    "theta4 = 0\n",
    "\n",
    "alpha = 0.001        # In class we chose 0.1 but it will not converge so here we use a smaller one.\n",
    "\n",
    "\n",
    "for i in range(30000):\n",
    "    \n",
    "    theta = np.array([theta0, theta1, theta2, theta3, theta4])\n",
    "\n",
    "    theta0 -= alpha/len(X)*((X.dot(theta)-Y).dot(X[:,0]))\n",
    "    theta1 -= alpha/len(X)*((X.dot(theta)-Y).dot(X[:,1]))\n",
    "    theta2 -= alpha/len(X)*((X.dot(theta)-Y).dot(X[:,2]))\n",
    "    theta3 -= alpha/len(X)*((X.dot(theta)-Y).dot(X[:,3]))\n",
    "    theta4 -= alpha/len(X)*((X.dot(theta)-Y).dot(X[:,4]))\n",
    "\n",
    "\n",
    "print(\"GD gives\", theta)"
   ],
   "outputs": [
    {
     "output_type": "stream",
     "name": "stdout",
     "text": [
      "GD gives [-3.71964518 -0.27654419  0.53315727  1.70456125  1.41590191]\n"
     ]
    }
   ],
   "metadata": {}
  },
  {
   "cell_type": "code",
   "execution_count": 8,
   "source": [
    "\n",
    "# Below uses Normal Equation\n",
    "    \n",
    "   \n",
    "theta_NE = np.linalg.inv(X.T.dot(X)).dot(X.T).dot(Y)\n",
    "\n",
    "print(\"NE gives\", theta_NE)"
   ],
   "outputs": [
    {
     "output_type": "stream",
     "name": "stdout",
     "text": [
      "NE gives [-3.91161916 -0.27150108  0.53569403  1.71997188  1.41405869]\n"
     ]
    }
   ],
   "metadata": {}
  },
  {
   "cell_type": "code",
   "execution_count": null,
   "source": [],
   "outputs": [],
   "metadata": {}
  }
 ],
 "metadata": {
  "orig_nbformat": 4,
  "language_info": {
   "name": "python",
   "version": "3.8.5",
   "mimetype": "text/x-python",
   "codemirror_mode": {
    "name": "ipython",
    "version": 3
   },
   "pygments_lexer": "ipython3",
   "nbconvert_exporter": "python",
   "file_extension": ".py"
  },
  "kernelspec": {
   "name": "python3",
   "display_name": "Python 3.8.5 64-bit ('general': conda)"
  },
  "interpreter": {
   "hash": "66fd99cc653260adf426bf328db08d1b55b377c06d9b72100938088d40231a18"
  }
 },
 "nbformat": 4,
 "nbformat_minor": 2
}